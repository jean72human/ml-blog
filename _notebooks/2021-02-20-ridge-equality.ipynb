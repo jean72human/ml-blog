{
 "cells": [
  {
   "cell_type": "markdown",
   "metadata": {},
   "source": [
    "# AMMI notes - ridge regression\n",
    "> An explanation of a useful equality for the ridge regression\n",
    "\n",
    "- toc:true\n",
    "- badges: true\n",
    "- comments: true\n",
    "- author: Gbetondji Dovonon\n",
    "- categories: [notes,ammi,blog]"
   ]
  },
  {
   "cell_type": "markdown",
   "metadata": {},
   "source": [
    "Typically in linear regression, the parameter $\\theta$ is obtained using $$\\theta = (X^TX)^{-1}X^TY$$ \n",
    "In the case of ridge regression (L2 regularization) however, the expression for $\\theta$ is the following:\n",
    "$$\\theta = (X^TX + \\lambda I_d)^{-1}X^TY$$ where d is the number of features\n",
    " \\ \n",
    "Note that with d as the number of features and n the number of examples.\n",
    "The dimensions are as follow:\n",
    "- $\\theta$ is (d,1)\n",
    "- $X$ is (n,d)\n",
    "- $Y$ is (n,1)\n",
    "\n",
    "Prediction is done using: \n",
    "- $Y = X \\theta$"
   ]
  },
  {
   "cell_type": "markdown",
   "metadata": {},
   "source": [
    "Ridge regression can be useful for several reasons. It serves as a regularization technique. Moreover, its solution is always defined. The normal equation for the ordinary least sqares requires us to compute the inverse of $X^TX$ which may not exist. The matrix $X^TX + \\lambda I_d$ however is always inversible."
   ]
  },
  {
   "cell_type": "markdown",
   "metadata": {},
   "source": [
    "## Showing that $X^TX + \\lambda I_d$ is always inversible"
   ]
  },
  {
   "cell_type": "markdown",
   "metadata": {},
   "source": [
    "There are multiple ways of showing that the inverse of $X^TX + \\lambda I_d$ always exists and oone of those is to show that its determinant cannot be 0.\\"
   ]
  },
  {
   "cell_type": "markdown",
   "metadata": {},
   "source": [
    "One of the properties of determinants, for positive semidefinite matrices at least, is:\n",
    "$$det(A + B) \\geq det(A) + det(B)$$\n",
    "In our case that means:\n",
    "$$det(X^T X + \\lambda I_d) \\geq det(X^T X) + det(\\lambda I_d)$$"
   ]
  },
  {
   "cell_type": "markdown",
   "metadata": {},
   "source": [
    "We need the two matrices to be positive semidefinite for this to work.\\\n",
    "I will asume $X^T X$ to be positive semidefinite. It's the Hessian of the loss function we optimize so without it being positive semidefinite, the derivative wouldn't be convex which would have prevented us from finding the closed form solution the way we did it. In facr, since $X^T X$ is positive semidefinite we have: $det(X^T X) \\geq 0$"
   ]
  },
  {
   "cell_type": "markdown",
   "metadata": {},
   "source": [
    "$$\n",
    "\\begin{aligned}\n",
    "det(\\lambda I_d) & = \\lambda^d det(I_d) \\\\\n",
    "& = \\lambda^d\n",
    "\\end{aligned}\n",
    "$$\n",
    "so for $\\lambda > 0$ we have $\\lambda^d > 0$ and $\\lambda I_d$ is postive semidefinite"
   ]
  },
  {
   "cell_type": "markdown",
   "metadata": {},
   "source": [
    "Since we have $det(\\lambda I_d) = \\lambda^d$ and $det(X^T X) \\geq 0$, we can now say:\n",
    "$$ det(X^T X) + det(\\lambda I_d) \\geq \\lambda^d > 0$$\n",
    "Therefore\n",
    "$$ det(X^T X + \\lambda I_d) > 0 $$ \n",
    "and the matrix $X^T X + \\lambda I_d$ is always inversible"
   ]
  },
  {
   "cell_type": "markdown",
   "metadata": {},
   "source": [
    "## Showing that $(X^TX + \\lambda I_d)^{-1}X^TY = X^T(XX^T + \\lambda I_n)^{-1}Y$"
   ]
  },
  {
   "cell_type": "markdown",
   "metadata": {},
   "source": [
    "For this one too there are several solutions. My favorite one is from [this blog post](https://danieltakeshi.github.io/2016/08/05/a-useful-matrix-inverse-equality-for-ridge-regression/) by Daniel Seita.  "
   ]
  },
  {
   "cell_type": "markdown",
   "metadata": {},
   "source": [
    "Now, when do we use them? I believe it is\n",
    "- $(X^TX + \\lambda I_d)^{-1}X^TY$ when $n > d$\n",
    "- $X^T(XX^T + \\lambda I_n)^{-1}Y$ when $d > n$\n",
    "\n",
    "The reason being that we want the smallest matrix to inverse, since matrix inversion is an expensive operation."
   ]
  },
  {
   "cell_type": "markdown",
   "metadata": {},
   "source": [
    "## Code"
   ]
  },
  {
   "cell_type": "code",
   "execution_count": 1,
   "metadata": {},
   "outputs": [],
   "source": [
    "import pandas as pd\n",
    "import numpy as np"
   ]
  },
  {
   "cell_type": "code",
   "execution_count": null,
   "metadata": {},
   "outputs": [],
   "source": [
    "!wget https://archive.ics.uci.edu/ml/machine-learning-databases/wine-quality/winequality-red.csv -P data"
   ]
  },
  {
   "cell_type": "code",
   "execution_count": 2,
   "metadata": {},
   "outputs": [
    {
     "name": "stdout",
     "output_type": "stream",
     "text": [
      "winequality-red.csv\r\n"
     ]
    }
   ],
   "source": [
    "!ls data"
   ]
  },
  {
   "cell_type": "code",
   "execution_count": 3,
   "metadata": {},
   "outputs": [],
   "source": [
    "def read_data(path):\n",
    "    data = pd.read_csv(path,sep=\";\")\n",
    "    X, Y = data[['fixed acidity', 'volatile acidity', 'citric acid', 'residual sugar',\n",
    "       'chlorides', 'free sulfur dioxide', 'total sulfur dioxide', 'density',\n",
    "       'pH', 'sulphates', 'alcohol']], data[[\"quality\"]]\n",
    "    return X, Y"
   ]
  },
  {
   "cell_type": "code",
   "execution_count": 4,
   "metadata": {},
   "outputs": [],
   "source": [
    "def split_data(X, Y):\n",
    "    split = int(0.8 * len(X))\n",
    "    X_train,Y_train = X[:split].values, Y[:split].values\n",
    "    X_test, Y_test = X[split:].values, Y[split:].values\n",
    "    return (X_train,Y_train), (X_test, Y_test)"
   ]
  },
  {
   "cell_type": "code",
   "execution_count": 5,
   "metadata": {},
   "outputs": [],
   "source": [
    "X,Y = read_data(\"data/winequality-red.csv\")"
   ]
  },
  {
   "cell_type": "code",
   "execution_count": 6,
   "metadata": {},
   "outputs": [],
   "source": [
    "(X_train,Y_train), (X_test, Y_test) = split_data(X, Y)"
   ]
  },
  {
   "cell_type": "code",
   "execution_count": 7,
   "metadata": {},
   "outputs": [
    {
     "name": "stdout",
     "output_type": "stream",
     "text": [
      "train error : 0.41601754667558516\n",
      "test error : 0.4315544880376387\n"
     ]
    }
   ],
   "source": [
    "def mse(Y,Y_hat): return np.mean((Y-Y_hat)**2)\n",
    "\n",
    "def LSO(X, Y):\n",
    "    \"\"\"\n",
    "    Computes 𝜃 using the normal equation\n",
    "    \"\"\"\n",
    "    theta = np.linalg.inv(X.T @ X) @ X.T @ Y\n",
    "    return theta\n",
    "\n",
    "theta1 = LSO(X_train,Y_train)\n",
    "print(f\"train error : {mse(X_train @ theta1, Y_train)}\")\n",
    "print(f\"test error : {mse(X_test @ theta1, Y_test)}\")"
   ]
  },
  {
   "cell_type": "code",
   "execution_count": 18,
   "metadata": {},
   "outputs": [
    {
     "name": "stdout",
     "output_type": "stream",
     "text": [
      "train error : 0.416193401976357\n",
      "test error : 0.4321054875487965\n"
     ]
    }
   ],
   "source": [
    "def ridge(X, Y, l=0.1):\n",
    "    \"\"\"\n",
    "    Computes 𝜃 using ridge regression with the first expression\n",
    "    \"\"\"\n",
    "    theta = np.linalg.inv(X.T @ X + (l*np.eye(X.shape[1])) ) @ X.T @ Y\n",
    "    return theta\n",
    "    \n",
    "theta2 = ridge(X_train,Y_train)\n",
    "print(f\"train error : {mse(X_train @ theta2, Y_train)}\")\n",
    "print(f\"test error : {mse(X_test @ theta2, Y_test)}\")"
   ]
  },
  {
   "cell_type": "code",
   "execution_count": 19,
   "metadata": {},
   "outputs": [
    {
     "name": "stdout",
     "output_type": "stream",
     "text": [
      "train error : 0.41619340197628557\n",
      "test error : 0.432105487324763\n"
     ]
    }
   ],
   "source": [
    "def ridge_2(X, Y, l=0.1):\n",
    "    \"\"\"\n",
    "    Computes 𝜃 using ridge regression with the second expression\n",
    "    \"\"\"\n",
    "    theta = X.T @ np.linalg.inv(X @ X.T + (l*np.eye(X.shape[0])) ) @ Y\n",
    "    return theta\n",
    "    \n",
    "theta3 = ridge_2(X_train,Y_train)\n",
    "print(f\"train error : {mse(X_train @ theta3, Y_train)}\")\n",
    "print(f\"test error : {mse(X_test @ theta3, Y_test)}\")"
   ]
  },
  {
   "cell_type": "markdown",
   "metadata": {},
   "source": [
    "We can make two observations:\n",
    "- the loss values for the normal regression and the ridge regression are not very different. That's probably because we are using linear regression so there is not much overfitting. In that case regularization is not very likely to improve performance\n",
    "- The loss values for the two ridge functions are about the same "
   ]
  },
  {
   "cell_type": "code",
   "execution_count": null,
   "metadata": {},
   "outputs": [],
   "source": []
  }
 ],
 "metadata": {
  "kernelspec": {
   "display_name": "Python 3",
   "language": "python",
   "name": "python3"
  },
  "language_info": {
   "codemirror_mode": {
    "name": "ipython",
    "version": 3
   },
   "file_extension": ".py",
   "mimetype": "text/x-python",
   "name": "python",
   "nbconvert_exporter": "python",
   "pygments_lexer": "ipython3",
   "version": "3.8.5"
  }
 },
 "nbformat": 4,
 "nbformat_minor": 4
}
