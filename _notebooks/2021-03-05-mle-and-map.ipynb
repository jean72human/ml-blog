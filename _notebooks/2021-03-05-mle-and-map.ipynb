{
  "nbformat": 4,
  "nbformat_minor": 0,
  "metadata": {
    "colab": {
      "name": "mle and map.ipynb",
      "provenance": []
    },
    "kernelspec": {
      "name": "python3",
      "display_name": "Python 3"
    }
  },
  "cells": [
    {
      "cell_type": "markdown",
      "metadata": {
        "id": "abkauHd1F05X"
      },
      "source": [
        "# AMMI notes - MLE and MAP\n",
        "> maximum likelihood estimation and maximum a posteriori estimation\n",
        "\n",
        "- toc: true\n",
        "- badges: true\n",
        "- comments: true\n",
        "- author: Gbetondji Dovonon\n",
        "- categories: [notes,ammi,blog]\n"
      ]
    },
    {
      "cell_type": "markdown",
      "metadata": {
        "id": "vO47UoVIZro2"
      },
      "source": [
        "Linear regression works by finding $\\underset{\\theta}{argmin} \\|{X\\theta - Y}\\|_2^2$. \\\n",
        "The interpretations for the metric we are minimizing are diverse. It can be interpreted as the sum of the euclidian distances between the predictions and actual values. It can also be obtained by maximum likelihood estimation (MLE).\n"
      ]
    },
    {
      "cell_type": "markdown",
      "metadata": {
        "id": "x6u_awHDcSvA"
      },
      "source": [
        "## Maximum Likelihood Estimation"
      ]
    },
    {
      "cell_type": "markdown",
      "metadata": {
        "id": "2Z6adTllcWXY"
      },
      "source": [
        "In MLE we are interested in finding the value of theta that maximizes the likelihood of the data as expressed by $p(Y|X\\theta)$"
      ]
    },
    {
      "cell_type": "markdown",
      "metadata": {
        "id": "ksy6IjumeBU8"
      },
      "source": [
        "Let's consider every data point to be of the form $y_i = x_i \\theta + \\epsilon$ where $\\epsilon$ follows a normal distribution $\\mathcal{N}(0,\\,\\sigma^{2})$ and $y_i$ will follow a distribution $\\mathcal{N}(x_i \\theta,\\,\\sigma^{2})$"
      ]
    },
    {
      "cell_type": "markdown",
      "metadata": {
        "id": "EoHvaa_agJ9X"
      },
      "source": [
        "Our goal is now to find $\\underset{\\theta}{argmax}\\ p(Y|X,\\theta)$"
      ]
    },
    {
      "cell_type": "markdown",
      "metadata": {
        "id": "23Y9aGwgIocq"
      },
      "source": [
        "Because we assume that the data points are independently sampled we can write $p(Y|X,\\theta) = \\displaystyle\\prod_{i=1}^{n} P(y_i|x_i,\\theta) $\n",
        "\n",
        "Then because we assume the data points are identically distributed, in this case with a distribution $\\mathcal{N}(x_i \\theta,\\,\\sigma^{2})$, we can write $\\displaystyle\\prod_{i=1}^{n} P(y_i|x_i,\\theta) = \\displaystyle\\prod_{i=1}^{n} \\frac{1}{\\sqrt{2 \\pi \\sigma^2}}exp(-\\frac{(y_i - x_i \\theta)^2}{2 \\sigma^2} $\n",
        "\n",
        "Lastly, because the $\\log$ function is a strictly increasing function, maximizing the likelihood $p(Y|X,\\theta)$ is the same as maximizing the log likelihood $\\log p(Y|X,\\theta)$."
      ]
    },
    {
      "cell_type": "markdown",
      "metadata": {
        "id": "Ab85ypB8gbnd"
      },
      "source": [
        "Using that let's develop the expression of the likelihood.\n",
        "$$\n",
        "\\begin{aligned}\n",
        "p(Y|X,\\theta) & = \\displaystyle\\prod_{i=1}^{n} P(y_i|x_i,\\theta) \n",
        "\\\\\n",
        "& = \\displaystyle\\prod_{i=1}^{n} \\frac{1}{\\sqrt{2 \\pi \\sigma^2}}exp(-\\frac{(y_i - x_i \\theta)^2}{2 \\sigma^2} )\n",
        "\\\\\n",
        "\\log p(Y|X,\\theta) & = \\displaystyle\\sum_{i=1}^{n} \\log ( \\frac{1}{\\sqrt{2 \\pi \\sigma^2}}exp(-\\frac{(y_i - x_i \\theta)^2}{2 \\sigma^2} ))\n",
        "\\\\\n",
        "& = \\displaystyle\\sum_{i=1}^{n} \\log \\frac{1}{\\sqrt{2 \\pi \\sigma^2}} - \\displaystyle\\sum_{i=1}^{n} \\frac{(y_i - x_i \\theta)^2}{2 \\sigma^2}  \n",
        "\\\\\n",
        "& = n \\log 1 - n \\log \\sqrt{2 \\pi \\sigma^2} - \\frac{1}{2 \\sigma^2} \\displaystyle\\sum_{i=1}^{n} (y_i - x_i \\theta)^2 \n",
        "\\\\\n",
        "& = n \\log 1 - n \\log \\sqrt{2 \\pi \\sigma^2} - \\frac{1}{2 \\sigma^2} \\|{Y - X\\theta }\\|_2^2\n",
        "\\end{aligned}\n",
        "$$"
      ]
    },
    {
      "cell_type": "markdown",
      "metadata": {
        "id": "fr9sRR_7HRnu"
      },
      "source": [
        "From that we can see that fincing the value of $\\theta$ that maximizes the likelihood is the same as finding the $\\theta$ that minimizes $\\|{Y - X\\theta }\\|_2^2$"
      ]
    },
    {
      "cell_type": "markdown",
      "metadata": {
        "id": "6WldYFEPGf4J"
      },
      "source": [
        "The closed form solution is $\\theta^{MLE} = (X^T X)^{-1}X^T Y$"
      ]
    },
    {
      "cell_type": "markdown",
      "metadata": {
        "id": "7zuRYGsVKTZR"
      },
      "source": [
        "## Maximum A Posteriori"
      ]
    },
    {
      "cell_type": "markdown",
      "metadata": {
        "id": "La5rZPxwM95L"
      },
      "source": [
        "In maximum a posteriori estimation (MAP estimation) we consider $\\theta$ aa random variable that also follow a normal distribution $\\mathcal{N}(0,\\,b^{2})$"
      ]
    },
    {
      "cell_type": "markdown",
      "metadata": {
        "id": "itVUHyP6T0Td"
      },
      "source": [
        "We want to maximize $P(\\theta|X,Y)$\n",
        "\n",
        "Using Baye's theorem we have \n",
        "$$\n",
        "\\begin{aligned}\n",
        "P(\\theta|X,Y) & = \\frac{P(Y|X,\\theta)p(\\theta)}{P(Y|X)}\n",
        "\\\\\n",
        "\\ log P(\\theta|X,Y) & = \\log P(Y|X,\\theta) + \\log p(\\theta) - \\log P(Y|X)\n",
        "\\\\\n",
        "& = n \\log 1 - n \\log \\sqrt{2 \\pi \\sigma^2} - \\frac{1}{2 \\sigma^2} \\|{Y - X\\theta }\\|_2^2 + n \\log 1 - n \\log \\sqrt{2 \\pi b^2} - \\frac{1}{2 b^2} \\|{\\theta }\\|_2^2 - \\log P(Y|X)\n",
        "\\\\\n",
        "& = - (\\frac{1}{2 \\sigma^2} \\|{Y - X\\theta }\\|_2^2 + \\frac{1}{2 b^2} \\|{\\theta }\\|_2^2 ) + c\n",
        "\\end{aligned}\n",
        "$$\n",
        "\n",
        "Here $c$ is a constant that groups all the terms that do not depend on $\\theta$. "
      ]
    },
    {
      "cell_type": "markdown",
      "metadata": {
        "id": "ebEDOfpOD5nK"
      },
      "source": [
        "From this we can see the cost function for ridge regression $\\|{Y - X\\theta }\\|_2^2 + \\lambda \\|{\\theta }\\|_2^2$"
      ]
    },
    {
      "cell_type": "markdown",
      "metadata": {
        "id": "qnm2EDPmFEPl"
      },
      "source": [
        "Ridge regression can be very useful because of its regularizing effect, and the fact that its closed from solution $\\theta^{MAP} = (X^T X + \\lambda I_d)^{-1}X^T Y$ always exists. Also, there is a very useful equality for ridge regression that is discusses [here](https://jean72human.github.io/ml-blog/notes/ammi/blog/2021/02/20/ridge-equality.html)."
      ]
    },
    {
      "cell_type": "code",
      "metadata": {
        "id": "AM_9P6Z9ZXNc"
      },
      "source": [
        ""
      ],
      "execution_count": null,
      "outputs": []
    }
  ]
}