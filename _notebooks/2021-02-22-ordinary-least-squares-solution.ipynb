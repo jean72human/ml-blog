{
 "cells": [
  {
   "cell_type": "markdown",
   "metadata": {
    "id": "PcweIxw05mOU"
   },
   "source": [
    "Linear Regression Exercise (Closed Form Solution)"
   ]
  },
  {
   "cell_type": "markdown",
   "metadata": {
    "id": "AhSPtDA_5mOa"
   },
   "source": [
    "In statistics, linear regression is a linear approach to modelling the relationship between a scalar response and one or more explanatory variables (also known as dependent and independent variables) [Wikipedia]. The closed form solution to finding the parameter $\\theta$ of a linear regression model is given by $$\\theta = (X^TX)^{-1}X^TY$$ where $X$ are your features and $Y$ is your target."
   ]
  },
  {
   "cell_type": "markdown",
   "metadata": {
    "id": "hlwPTZLaViUK"
   },
   "source": [
    "Let d be the number of features, n the number of examples.\n",
    "The dimensions are as follow:\n",
    "- $\\theta$ is (d,1)\n",
    "- $X$ is (n,f)\n",
    "- $Y$ is (n,1)\n",
    "\n",
    "Prediction is done using: \n",
    "- $Y = X \\theta$\n",
    "\n",
    "We are trying to find the value of $\\theta$ that minimizes the squared error which means finding the solution to: \\\n",
    "$\\underset{\\theta}{argmin} \\|{X \\theta - Y}\\|_2^2$"
   ]
  },
  {
   "cell_type": "markdown",
   "metadata": {
    "id": "JqX77Wi4bTPl"
   },
   "source": [
    "In order to find that value of theta, since the squared error is convex, we can find the derivative of the expression and find the value of $\\theta$ that makes it 0."
   ]
  },
  {
   "cell_type": "markdown",
   "metadata": {
    "id": "ptYBDS8acCzK"
   },
   "source": [
    "First let's expand $\\|{X \\theta - Y}\\|_2^2$\n",
    "\\begin{split}\n",
    "\\\\\n",
    "\\\\\n",
    "\\|{X \\theta - Y}\\|_2^2 &= (X \\theta - Y)^T(X \\theta - Y) \\\\\n",
    "& = (\\theta^T X^T  - Y^T)(X \\theta - Y) \\\\\n",
    "& = \\theta^T X^T X \\theta - Y^T X \\theta - \\theta^T X^T Y - Y^T Y \\\\\n",
    "& = \\theta^T X^T X \\theta - (\\theta^T X^T Y)^T - \\theta^T X^T Y - Y^T Y \\\\ \n",
    "& = \\theta^T X^T X \\theta - 2\\theta^T X^T Y - Y^T Y \\ because \\ \\theta^T X^T Y \\ is \\ a \\ scalar \\\\\n",
    "\\\\\n",
    "\\\\\n",
    "\\frac{\\partial \\|{X \\theta - Y}\\|_2^2}{\\partial \\theta} & = 2 X^T X \\theta -  2 X^T Y \\\\\n",
    "\\\\\n",
    "\\\\\n",
    "\\end{split}\n",
    "By equating the derivative to 0 we get:\n",
    "\n",
    "\\begin{split}\n",
    "2 X^T X \\theta -  2 X^T Y & = 0 \\\\\n",
    "X^T X \\theta -  X^T Y & = 0 \\\\\n",
    "X^T X \\theta & =  X^T Y \\\\\n",
    "\\theta & = (X^T X)^{-1} X^T Y \\\\\n",
    "\\end{split}"
   ]
  },
  {
   "cell_type": "markdown",
   "metadata": {
    "id": "RgKS9dY75mOb"
   },
   "source": [
    "Here is an implementation using numpy and the wine quality dataset from this dataset repo [mcu dataset](https://archive.ics.uci.edu/ml/datasets.php)."
   ]
  },
  {
   "cell_type": "markdown",
   "metadata": {
    "id": "xRA9aAvr5mOd"
   },
   "source": [
    "PART B"
   ]
  },
  {
   "cell_type": "code",
   "execution_count": 7,
   "metadata": {
    "id": "I2rIlD4PGPCa"
   },
   "outputs": [],
   "source": [
    "import pandas as pd\n",
    "import numpy as np"
   ]
  },
  {
   "cell_type": "code",
   "execution_count": 8,
   "metadata": {
    "colab": {
     "base_uri": "https://localhost:8080/"
    },
    "id": "2vQPdxKWF8JS",
    "outputId": "11f05e90-c94c-40f9-bcb9-4266c833305b"
   },
   "outputs": [
    {
     "name": "stdout",
     "output_type": "stream",
     "text": [
      "zsh:1: command not found: wget\r\n"
     ]
    }
   ],
   "source": [
    "!wget https://archive.ics.uci.edu/ml/machine-learning-databases/wine-quality/winequality-red.csv -P data"
   ]
  },
  {
   "cell_type": "code",
   "execution_count": 9,
   "metadata": {
    "colab": {
     "base_uri": "https://localhost:8080/"
    },
    "id": "NL3QoeIYGA59",
    "outputId": "5426709c-686b-4c0f-9df9-8acde930928e"
   },
   "outputs": [
    {
     "name": "stdout",
     "output_type": "stream",
     "text": [
      "winequality-red.csv\r\n"
     ]
    }
   ],
   "source": [
    "!ls data"
   ]
  },
  {
   "cell_type": "code",
   "execution_count": 11,
   "metadata": {
    "colab": {
     "base_uri": "https://localhost:8080/",
     "height": 142
    },
    "id": "nNBG9G3YGNIr",
    "outputId": "19c90b50-86ad-4d26-d279-10f014925301"
   },
   "outputs": [
    {
     "data": {
      "text/html": [
       "<div>\n",
       "<style scoped>\n",
       "    .dataframe tbody tr th:only-of-type {\n",
       "        vertical-align: middle;\n",
       "    }\n",
       "\n",
       "    .dataframe tbody tr th {\n",
       "        vertical-align: top;\n",
       "    }\n",
       "\n",
       "    .dataframe thead th {\n",
       "        text-align: right;\n",
       "    }\n",
       "</style>\n",
       "<table border=\"1\" class=\"dataframe\">\n",
       "  <thead>\n",
       "    <tr style=\"text-align: right;\">\n",
       "      <th></th>\n",
       "      <th>fixed acidity</th>\n",
       "      <th>volatile acidity</th>\n",
       "      <th>citric acid</th>\n",
       "      <th>residual sugar</th>\n",
       "      <th>chlorides</th>\n",
       "      <th>free sulfur dioxide</th>\n",
       "      <th>total sulfur dioxide</th>\n",
       "      <th>density</th>\n",
       "      <th>pH</th>\n",
       "      <th>sulphates</th>\n",
       "      <th>alcohol</th>\n",
       "      <th>quality</th>\n",
       "    </tr>\n",
       "  </thead>\n",
       "  <tbody>\n",
       "    <tr>\n",
       "      <th>0</th>\n",
       "      <td>7.4</td>\n",
       "      <td>0.70</td>\n",
       "      <td>0.00</td>\n",
       "      <td>1.9</td>\n",
       "      <td>0.076</td>\n",
       "      <td>11.0</td>\n",
       "      <td>34.0</td>\n",
       "      <td>0.9978</td>\n",
       "      <td>3.51</td>\n",
       "      <td>0.56</td>\n",
       "      <td>9.4</td>\n",
       "      <td>5</td>\n",
       "    </tr>\n",
       "    <tr>\n",
       "      <th>1</th>\n",
       "      <td>7.8</td>\n",
       "      <td>0.88</td>\n",
       "      <td>0.00</td>\n",
       "      <td>2.6</td>\n",
       "      <td>0.098</td>\n",
       "      <td>25.0</td>\n",
       "      <td>67.0</td>\n",
       "      <td>0.9968</td>\n",
       "      <td>3.20</td>\n",
       "      <td>0.68</td>\n",
       "      <td>9.8</td>\n",
       "      <td>5</td>\n",
       "    </tr>\n",
       "    <tr>\n",
       "      <th>2</th>\n",
       "      <td>7.8</td>\n",
       "      <td>0.76</td>\n",
       "      <td>0.04</td>\n",
       "      <td>2.3</td>\n",
       "      <td>0.092</td>\n",
       "      <td>15.0</td>\n",
       "      <td>54.0</td>\n",
       "      <td>0.9970</td>\n",
       "      <td>3.26</td>\n",
       "      <td>0.65</td>\n",
       "      <td>9.8</td>\n",
       "      <td>5</td>\n",
       "    </tr>\n",
       "  </tbody>\n",
       "</table>\n",
       "</div>"
      ],
      "text/plain": [
       "   fixed acidity  volatile acidity  citric acid  residual sugar  chlorides  \\\n",
       "0            7.4              0.70         0.00             1.9      0.076   \n",
       "1            7.8              0.88         0.00             2.6      0.098   \n",
       "2            7.8              0.76         0.04             2.3      0.092   \n",
       "\n",
       "   free sulfur dioxide  total sulfur dioxide  density    pH  sulphates  \\\n",
       "0                 11.0                  34.0   0.9978  3.51       0.56   \n",
       "1                 25.0                  67.0   0.9968  3.20       0.68   \n",
       "2                 15.0                  54.0   0.9970  3.26       0.65   \n",
       "\n",
       "   alcohol  quality  \n",
       "0      9.4        5  \n",
       "1      9.8        5  \n",
       "2      9.8        5  "
      ]
     },
     "execution_count": 11,
     "metadata": {},
     "output_type": "execute_result"
    }
   ],
   "source": [
    "data = pd.read_csv(\"data/winequality-red.csv\",sep=';')\n",
    "data.head(3)"
   ]
  },
  {
   "cell_type": "code",
   "execution_count": 12,
   "metadata": {
    "colab": {
     "base_uri": "https://localhost:8080/"
    },
    "id": "sDRIjbEMJLlW",
    "outputId": "d2c17c20-2bdd-44cf-eb42-976b0d663d54"
   },
   "outputs": [
    {
     "data": {
      "text/plain": [
       "((1599, 11), (1599, 1))"
      ]
     },
     "execution_count": 12,
     "metadata": {},
     "output_type": "execute_result"
    }
   ],
   "source": [
    "cols = [\"fixed acidity\", \"volatile acidity\", \"citric acid\", \"residual sugar\", \"chlorides\", \"free sulfur dioxide\", \"total sulfur dioxide\", \"density\", \"pH\", \"sulphates\", \"alcohol\"]\n",
    "target = \"quality\"\n",
    "data = data.sample(frac=1)\n",
    "X = data[cols].values\n",
    "Y = data[[target]].values\n",
    "X.shape, Y.shape"
   ]
  },
  {
   "cell_type": "code",
   "execution_count": 15,
   "metadata": {
    "id": "PfZMiDG1FC-Y"
   },
   "outputs": [],
   "source": [
    "## function to add ones to every data point\n",
    "def add_ones(X): return np.hstack([X,np.ones((X.shape[0],1))])\n",
    "\n",
    "class LinearReg:\n",
    "    \"\"\"\n",
    "    Basic linear regression implemetation using numpy\n",
    "    \"\"\"\n",
    "    def __init__(self, bias=False):\n",
    "        \"\"\"\n",
    "        Initialization of theta and a boolean to determine whether to use a bias or not\n",
    "        \"\"\"\n",
    "        self.theta = None\n",
    "        self.bias = bias\n",
    "  \n",
    "    def fit(self,X,Y):\n",
    "        \"\"\"\n",
    "        Fit function. Uses the normal equation to compute theta\n",
    "        \"\"\"\n",
    "        if self.bias:\n",
    "          X = add_ones(X)\n",
    "        A = X.T @ X\n",
    "        B = X.T @ Y\n",
    "        self.theta = np.linalg.solve(A,B)\n",
    "        #self.theta = np.linalg.inv(A) @ B\n",
    "\n",
    "    def predict(self,X):\n",
    "        \"\"\"\n",
    "        prediction function\n",
    "        \"\"\"\n",
    "        if self.bias:\n",
    "          X = add_ones(X)\n",
    "        return X @ self.theta\n",
    "\n",
    "    @staticmethod\n",
    "    def mse(y_hat,y):\n",
    "        \"\"\"\n",
    "        Static method implementing the mean squared error\n",
    "        \"\"\"\n",
    "        return np.mean((y-y_hat)**2)"
   ]
  },
  {
   "cell_type": "code",
   "execution_count": 16,
   "metadata": {
    "colab": {
     "base_uri": "https://localhost:8080/"
    },
    "id": "RQvNLnvzRLMU",
    "outputId": "49b8722d-d1cd-4e8b-a777-50067f534a4b"
   },
   "outputs": [
    {
     "data": {
      "text/plain": [
       "0.4170492248204846"
      ]
     },
     "execution_count": 16,
     "metadata": {},
     "output_type": "execute_result"
    }
   ],
   "source": [
    "model1 = LinearReg()\n",
    "model1.fit(X,Y)\n",
    "LinearReg.mse(model1.predict(X),Y)"
   ]
  },
  {
   "cell_type": "code",
   "execution_count": 17,
   "metadata": {
    "colab": {
     "base_uri": "https://localhost:8080/"
    },
    "id": "CF9C9u1DRjVZ",
    "outputId": "c042a0eb-87d5-4182-c2e5-899495548fad"
   },
   "outputs": [
    {
     "data": {
      "text/plain": [
       "0.41676716722140805"
      ]
     },
     "execution_count": 17,
     "metadata": {},
     "output_type": "execute_result"
    }
   ],
   "source": [
    "model2 = LinearReg(bias=True)\n",
    "model2.fit(X,Y)\n",
    "LinearReg.mse(model2.predict(X),Y)"
   ]
  },
  {
   "cell_type": "code",
   "execution_count": null,
   "metadata": {
    "id": "44O7AbmErJDr"
   },
   "outputs": [],
   "source": []
  }
 ],
 "metadata": {
  "colab": {
   "collapsed_sections": [],
   "name": "ordinary_least_squares.ipynb",
   "provenance": []
  },
  "kernelspec": {
   "display_name": "Python 3",
   "language": "python",
   "name": "python3"
  },
  "language_info": {
   "codemirror_mode": {
    "name": "ipython",
    "version": 3
   },
   "file_extension": ".py",
   "mimetype": "text/x-python",
   "name": "python",
   "nbconvert_exporter": "python",
   "pygments_lexer": "ipython3",
   "version": "3.8.5"
  }
 },
 "nbformat": 4,
 "nbformat_minor": 1
}
